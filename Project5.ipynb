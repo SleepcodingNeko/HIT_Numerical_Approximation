{
 "cells": [
  {
   "cell_type": "code",
   "execution_count": 14,
   "metadata": {},
   "outputs": [
    {
     "name": "stdout",
     "output_type": "stream",
     "text": [
      "Simpson:  27.13440245652987\n",
      "exSimpson:  27.181020281062136\n",
      "Integration calculated by scipy.integrate:  27.181024396655484\n",
      "\n",
      "\n",
      "|Simpson-Inte|= 0.046621940125614714\n",
      "|exSimpson-Inte|= 4.115593348785751e-06\n"
     ]
    }
   ],
   "source": [
    "#Prob 1\n",
    "import math\n",
    "import matplotlib.pyplot as plt\n",
    "from scipy import linalg\n",
    "from scipy import integrate\n",
    "import numpy as np\n",
    "pi=math.pi\n",
    "\n",
    "def N(x):\n",
    "    return 200/0.1/(2*pi)**0.5*math.exp(-(x-1.7)**2/2/0.01)\n",
    "Simpson=(1.9-1.8)/6*(N(1.8)+4*N(1.85)+N(1.9))\n",
    "\n",
    "exSimpson=0\n",
    "for i in range(10):\n",
    "    exSimpson=exSimpson+0.01/6*(N(1.8+0.01*i)+4*N(1.805+0.01*i)+N(1.81+0.01*i))\n",
    "\n",
    "Inte,err=integrate.quad(lambda t:200/0.1/(2*pi)**0.5*math.exp(-(t-1.7)**2/2/0.01),1.8,1.9)\n",
    "print(\"Simpson: \",Simpson)\n",
    "print(\"exSimpson: \",exSimpson)\n",
    "print(\"Integration calculated by scipy.integrate: \",Inte)\n",
    "print(\"\\n\")\n",
    "print(\"|Simpson-Inte|=\",abs(Simpson-Inte))\n",
    "print(\"|exSimpson-Inte|=\",abs(exSimpson-Inte))"
   ]
  },
  {
   "cell_type": "code",
   "execution_count": 15,
   "metadata": {},
   "outputs": [
    {
     "name": "stdout",
     "output_type": "stream",
     "text": [
      "0.3862942021742065\n"
     ]
    }
   ],
   "source": [
    "#Prob2\n",
    "import math\n",
    "def romberg(f,a,b,epsilon):\n",
    "    T=[]\n",
    "    T.append((f(a)+f(b))/2)\n",
    "    T.append(T[0]/2+f((a+b)/2)/2)\n",
    "    i=1\n",
    "    while abs(T[i]-T[i-1])>epsilon:\n",
    "        i=i+1\n",
    "        Q=0\n",
    "        j=0\n",
    "        while 2*j+1<2**i:\n",
    "            Q=Q+f(a+(2*j+1)/2**i*(b-a))\n",
    "            j=j+1\n",
    "        T.append(T[i-1]/2+Q/2**i)\n",
    "        \n",
    "    return T[-1]\n",
    "\n",
    "def f(x):\n",
    "    return math.log(x)\n",
    "\n",
    "print (romberg(f,1,2,10**-6))"
   ]
  },
  {
   "cell_type": "code",
   "execution_count": 22,
   "metadata": {},
   "outputs": [
    {
     "name": "stdout",
     "output_type": "stream",
     "text": [
      "Accurate:  13.577302400789666\n",
      "14.663403727504809\n",
      "13.851885603400463\n",
      "13.646144721941265\n",
      "13.594525347416171\n",
      "13.58137956203235\n",
      "13.57756442812153\n",
      "13.577318889241143\n",
      "13.577303433056535\n"
     ]
    }
   ],
   "source": [
    "#Prob 3.1\n",
    "import math\n",
    "def I1(f,a,b,n): #ti\n",
    "    h=(b-a)/n\n",
    "    I=0\n",
    "    for i in range(n):\n",
    "        I=I+(f(a+i*h)+f(a+i*h+h))*h/2\n",
    "    return I\n",
    "    \n",
    "def I2(f,a,b,n): #simpson\n",
    "    h=(b-a)/n\n",
    "    I=0\n",
    "    for i in range(n):\n",
    "        I=I+(f(a+i*h)+f(a+i*h+h)+4*f(a+i*h+h/2))*h/6\n",
    "    return I\n",
    "\n",
    "def f(x):\n",
    "    f=(1+math.exp(x))**(1/2)\n",
    "    return f\n",
    "\n",
    "Inte,err=integrate.quad(lambda t:f(t),0,4)\n",
    "\n",
    "print(\"Accurate: \", Inte)\n",
    "print (I1(f,0,4,2))\n",
    "print (I1(f,0,4,4))\n",
    "print (I1(f,0,4,8))\n",
    "print (I1(f,0,4,16))\n",
    "\n",
    "print (I2(f,0,4,2))\n",
    "print (I2(f,0,4,4))\n",
    "print (I2(f,0,4,8))\n",
    "print (I2(f,0,4,16))"
   ]
  },
  {
   "cell_type": "code",
   "execution_count": 23,
   "metadata": {},
   "outputs": [
    {
     "name": "stdout",
     "output_type": "stream",
     "text": [
      "13.576984579216827 13.57730258966976 13.577302399995329\n"
     ]
    }
   ],
   "source": [
    "#Prob 3.2\n",
    "import math\n",
    "def f(t):\n",
    "    return 2*(1+math.exp(2*t+2))**(1/2)\n",
    "x3=[0.0000000000000000,-0.7745966692414834,0.7745966692414834]\n",
    "W3=[0.8888888888888888,0.5555555555555556,0.5555555555555556]\n",
    "x5=[0.0000000000000000,-0.5384693101056831,0.5384693101056831,-0.9061798459386640,0.9061798459386640]\n",
    "W5=[0.5688888888888889,0.4786286704993665,0.4786286704993665,0.2369268850561891,0.2369268850561891]\n",
    "x7=[0.0000000000000000,-0.4058451513773972,0.4058451513773972,-0.7415311855993945,0.7415311855993945,-0.9491079123427585,0.9491079123427585]\n",
    "W7=[0.4179591836734694,0.3818300505051189,0.3818300505051189,0.2797053914892766,0.2797053914892766,0.1294849661688697,0.1294849661688697]\n",
    "I3=0\n",
    "for i in range(3):\n",
    "    I3=I3+W3[i]*f(x3[i])\n",
    "I5=0\n",
    "for i in range(5):\n",
    "    I5=I5+W5[i]*f(x5[i])\n",
    "I7=0\n",
    "for i in range(7):\n",
    "    I7=I7+W7[i]*f(x7[i])\n",
    "print(I3,I5,I7)"
   ]
  },
  {
   "cell_type": "code",
   "execution_count": null,
   "metadata": {},
   "outputs": [],
   "source": []
  }
 ],
 "metadata": {
  "kernelspec": {
   "display_name": "Python [conda env:ml]",
   "language": "python",
   "name": "conda-env-ml-py"
  },
  "language_info": {
   "codemirror_mode": {
    "name": "ipython",
    "version": 3
   },
   "file_extension": ".py",
   "mimetype": "text/x-python",
   "name": "python",
   "nbconvert_exporter": "python",
   "pygments_lexer": "ipython3",
   "version": "3.8.5"
  }
 },
 "nbformat": 4,
 "nbformat_minor": 2
}

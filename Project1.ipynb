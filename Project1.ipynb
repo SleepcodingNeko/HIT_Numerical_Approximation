{
 "cells": [
  {
   "cell_type": "code",
   "execution_count": 63,
   "metadata": {
    "scrolled": true
   },
   "outputs": [
    {
     "name": "stdout",
     "output_type": "stream",
     "text": [
      "1.1102230246251565\n",
      "0.0\n"
     ]
    }
   ],
   "source": [
    "# Prob 1.1\n",
    "import math\n",
    "def f(x):\n",
    "    return ((1+x)-1)/x\n",
    "\n",
    "print(f(math.pow(10,-15)))\n",
    "print(f(math.pow(10,-16)))"
   ]
  },
  {
   "cell_type": "markdown",
   "metadata": {},
   "source": [
    "这是因为两个相近数字相减引入了截断误差；\n",
    "第二个是因为大数字吞掉了小数字(10e-16太小了)"
   ]
  },
  {
   "cell_type": "code",
   "execution_count": 59,
   "metadata": {},
   "outputs": [
    {
     "name": "stdout",
     "output_type": "stream",
     "text": [
      "Found least n =  53 in which x =  1.1102230246251565e-16\n"
     ]
    }
   ],
   "source": [
    "#Prob 1.2\n",
    "n = 1\n",
    "while(True):\n",
    "    x = math.pow(2,(-1)*n)\n",
    "    if(0.5+x<=0.5):\n",
    "        print(\"Found least n = \", n-1, \"in which x = \", math.pow(2,(-1)*(n-1)))\n",
    "        break\n",
    "    n+=1"
   ]
  },
  {
   "cell_type": "code",
   "execution_count": 57,
   "metadata": {},
   "outputs": [],
   "source": [
    "#Prob 2\n",
    "#Approaching exp(x) using the first N elements in Taylor expansion\n",
    "import numpy as np\n",
    "import matplotlib.pyplot as plt\n",
    "def factorial(n):#calculating factorial n!\n",
    "    fac = 1\n",
    "    if(n==0):\n",
    "        return 1\n",
    "    for i in range(1,n+1):\n",
    "        fac *= i\n",
    "    return fac\n",
    "    \n",
    "def approach_exp(x,N):\n",
    "    sum = 0\n",
    "    for i in range(0, N+1):\n",
    "        sum+=math.pow(x,i)/factorial(i)\n",
    "    return sum\n",
    "\n",
    "def getre(x):\n",
    "    relative_error = np.zeros(21)\n",
    "   # print(relative_error[19])\n",
    "    for N in range(1,21):\n",
    "        relative_error[N] = abs(math.exp(x)-approach_exp(x,N))/math.exp(x)\n",
    "    return relative_error\n",
    "\n",
    "def makescatter(x):\n",
    "    relative_error = getre(x)\n",
    "    Ns = np.arange(0, 21)\n",
    "   # print(Ns)\n",
    "   # print(\"!!!!!!\", Ns[1:21])\n",
    "    plt.scatter(Ns[1:21], relative_error[1:21])\n",
    "    "
   ]
  },
  {
   "cell_type": "code",
   "execution_count": 58,
   "metadata": {
    "scrolled": true
   },
   "outputs": [
    {
     "name": "stdout",
     "output_type": "stream",
     "text": [
      "[0.         0.9995006  0.9972306  0.98966395 0.97074731 0.93291404\n",
      " 0.86985858 0.77977935 0.66718032 0.54207029 0.41696025 0.30322385\n",
      " 0.20844352 0.13553558 0.08345847 0.0487404  0.02704161 0.01427761\n",
      " 0.0071865  0.00345434 0.00158826]\n"
     ]
    },
    {
     "data": {
      "image/png": "[encoded data removed]",
      "text/plain": [
       "<Figure size 432x288 with 1 Axes>"
      ]
     },
     "metadata": {
      "needs_background": "light"
     },
     "output_type": "display_data"
    }
   ],
   "source": [
    "print(getre(10))\n",
    "makescatter(10)"
   ]
  },
  {
   "cell_type": "markdown",
   "metadata": {},
   "source": [
    "这是正常的逼近，SN(x)逐点收敛到exp(x)"
   ]
  },
  {
   "cell_type": "code",
   "execution_count": 51,
   "metadata": {},
   "outputs": [
    {
     "name": "stdout",
     "output_type": "stream",
     "text": [
      "[       0.           198239.19215326   903084.09758708  2767993.53488071\n",
      "  6409700.54628875 11945687.61605017 18646625.98784804 25056679.16057798\n",
      " 29572452.27495455 31126582.65341493 29572452.27495455 25608488.56901771\n",
      " 20375628.80095917 14996769.17594612 10269229.37898622  6574769.65763534\n",
      "  3952729.74025314  2239916.96438714  1200442.31596857   610273.09474497\n",
      "   295084.6106118 ]\n"
     ]
    },
    {
     "data": {
      "image/png": "[encoded data removed]",
      "text/plain": [
       "<Figure size 432x288 with 1 Axes>"
      ]
     },
     "metadata": {
      "needs_background": "light"
     },
     "output_type": "display_data"
    }
   ],
   "source": [
    "print(getre(-10))\n",
    "makescatter(-10)"
   ]
  },
  {
   "cell_type": "markdown",
   "metadata": {},
   "source": [
    "这里出现异常（中间一段变高）的原因是SN(x)当x<0时是交错级数，这使得SN(x)-exp(x)是震荡的，且exp(-10)很小，很小数相减出现了误差，当n比较小的时候现象比较显著，当n变大之后主要影响因素变成了fac(n)，误差变小。\n",
    "\n",
    "改进：将x=-10的情形转化为一个趋近于较大的数，取倒数即可，即：\n",
    "1/(SN(10)) -> exp(-10)\n",
    "\n",
    "此时相对误差的表达式是 Er=abs((1/SN(10))-exp(-10))/exp(-10)"
   ]
  },
  {
   "cell_type": "code",
   "execution_count": 66,
   "metadata": {},
   "outputs": [
    {
     "name": "stdout",
     "output_type": "stream",
     "text": [
      "[   1.71828183    1.            0.71828183    0.56343634    0.46453646\n",
      "    0.39559955    0.34468454    0.30549004    0.27436153    0.24902803\n",
      "    0.22800152    0.21026516    0.19509991    0.18198305    0.17051906\n",
      "    0.16049585    0.15034816    0.16236308   -0.20425356    6.5990995\n",
      " -129.26370813]\n",
      "I[20] =  -129.26370813285942\n"
     ]
    }
   ],
   "source": [
    "#Prob 3.1\n",
    "#I(N) = e - N*I(N-1)\n",
    "#I(0) = e-1\n",
    "\n",
    "I = np.zeros(21)\n",
    "I[0] = math.exp(1)-1\n",
    "for N in range(1,21):\n",
    "    I[N]=math.exp(1) - N*I[N-1]\n",
    "\n",
    "print(I)\n",
    "print(\"I[20] = \", I[20])"
   ]
  },
  {
   "cell_type": "code",
   "execution_count": 75,
   "metadata": {
    "scrolled": false
   },
   "outputs": [
    {
     "name": "stdout",
     "output_type": "stream",
     "text": [
      "[0.12380383 0.12380383 0.12380383 0.12380383 0.12380383 0.12380383\n",
      " 0.12380383 0.12380383 0.12380383 0.12380383 0.12380383 0.12380383\n",
      " 0.12380383 0.12380383 0.12380383 0.12380383 0.12380383 0.12380383\n",
      " 0.12380383 0.12380383]\n"
     ]
    },
    {
     "data": {
      "text/plain": [
       "<matplotlib.collections.PathCollection at 0x1de9dd89b70>"
      ]
     },
     "execution_count": 75,
     "metadata": {},
     "output_type": "execute_result"
    },
    {
     "data": {
      "image/png": "[encoded data removed]",
      "text/plain": [
       "<Figure size 432x288 with 1 Axes>"
      ]
     },
     "metadata": {
      "needs_background": "light"
     },
     "output_type": "display_data"
    }
   ],
   "source": [
    "#Prob 3.2\n",
    "II = np.zeros(101)\n",
    "def getI(N):\n",
    "    sum = 0\n",
    "    for i in range(0, N+1):\n",
    "        sum += 1/(factorial(i)*(20+1+i))\n",
    "    return sum\n",
    "\n",
    "for N in range(10, 31):\n",
    "    II[N]=getI(N)\n",
    "\n",
    "print(II[10:30]) \n",
    "\n",
    "plt.scatter(x=range(10,30) ,y=II[10:30])"
   ]
  },
  {
   "cell_type": "markdown",
   "metadata": {},
   "source": [
    "使用级数截断的方法更适合，即使只考虑初始值的舍入误差lambda，在经过多次迭代之后该误差也会被不断累积变大。而级数截断的方法不会累积误差。"
   ]
  },
  {
   "cell_type": "code",
   "execution_count": 82,
   "metadata": {},
   "outputs": [
    {
     "name": "stdout",
     "output_type": "stream",
     "text": [
      "u_100 =  100.0\n"
     ]
    },
    {
     "data": {
      "image/png": "[encoded data removed]",
      "text/plain": [
       "<Figure size 432x288 with 1 Axes>"
      ]
     },
     "metadata": {
      "needs_background": "light"
     },
     "output_type": "display_data"
    }
   ],
   "source": [
    "#Prob 4\n",
    "def getun(alpha, beta, gamma, n):\n",
    "    a = alpha*math.pow(100,n+1)+beta*math.pow(6,n+1)+gamma*math.pow(5,n+1)\n",
    "    b = alpha*math.pow(100,n)+beta*math.pow(6,n)+gamma*math.pow(5,n)\n",
    "    return a/b\n",
    "\n",
    "u = np.zeros(2000)\n",
    "\n",
    "u[0]=getun(0,1,1,0)\n",
    "u[1]=getun(0,1,1,1)\n",
    "\n",
    "\n",
    "\n",
    "for i in range(2, 101):\n",
    "    u[i] = 111-(1130-3000/u[i-2])/u[i-1]\n",
    "\n",
    "plt.scatter(x= range(0, 101), y=u[0:101])\n",
    "\n",
    "print(\"u_100 = \", u[100])"
   ]
  },
  {
   "cell_type": "code",
   "execution_count": 88,
   "metadata": {
    "scrolled": true
   },
   "outputs": [
    {
     "name": "stdout",
     "output_type": "stream",
     "text": [
      "u[150] =  5.999999999998674\n"
     ]
    },
    {
     "data": {
      "image/png": "[encoded data removed]",
      "text/plain": [
       "<Figure size 432x288 with 1 Axes>"
      ]
     },
     "metadata": {
      "needs_background": "light"
     },
     "output_type": "display_data"
    }
   ],
   "source": [
    "u = np.zeros(2000)\n",
    "for i in range(0, 151):\n",
    "    u[i]=getun(0,1,1,i)\n",
    "plt.scatter(x = range(0,151), y=u[0:151])\n",
    "\n",
    "print(\"u[150] = \", u[150])"
   ]
  },
  {
   "cell_type": "markdown",
   "metadata": {},
   "source": [
    "精确的极限，带入alpha, beta, gamma之后即计算:\n",
    "lim(n->+inf) (6^(n+1)+5^(n+1))/(6^n+5^n)=6\n",
    "极限存在时，由递推公式解得u=100 or 5 or 6，由通解形式知道alpha != 0时总有\n",
    "lim un=100，而任取u0与u1在计算时，总是转化成了alpha !=0的情况，从而计算出了100\n"
   ]
  },
  {
   "cell_type": "code",
   "execution_count": null,
   "metadata": {},
   "outputs": [],
   "source": [
    "import math\n",
    "import matplotlib.pyplot as plt\n",
    "import numpy as np\n",
    "\n",
    "\n",
    "def pi(n,x,X) :\n",
    "    if n==0:\n",
    "        return 1\n",
    "    return pi(n-1,x,X)*(x-X[n-1])\n",
    "\n",
    "def N(n,x,X,Y):\n",
    "    if n==0:\n",
    "        return Y[0]\n",
    "    return N(n-1,x,X,Y)+pi(n,x,X)*(Y[n]-N(n-1,X[n],X,Y))/pi(n,X[n],X)\n",
    "\n",
    "def f(n,x):\n",
    "    X= [-5+k*10/n for k in range(0,n+1)]\n",
    "    Y=[]\n",
    "    i=0\n",
    "    while i<n+1:\n",
    "        Y.append(1/(1+X[i]**2))\n",
    "        i=i+1\n",
    "    return N(n,x,X,Y)\n",
    "\n",
    "x=np.linspace(-5,5,100)\n",
    "y1=1/(1+x**2)\n",
    "y2=f(4,x)\n",
    "y3=f(10,x)\n",
    "y4=f(14,x)\n",
    "y5=f(20,x)\n",
    "\n",
    "plt.figure()\n",
    "plt.plot(x,y1)\n",
    "plt.plot(x,y2)\n",
    "plt.plot(x,y3)\n",
    "plt.plot(x,y4)\n",
    "plt.plot(x,y5)\n",
    "\n",
    "plt.show()"
   ]
  }
 ],
 "metadata": {
  "kernelspec": {
   "display_name": "Python [conda env:root] *",
   "language": "python",
   "name": "conda-root-py"
  },
  "language_info": {
   "codemirror_mode": {
    "name": "ipython",
    "version": 3
   },
   "file_extension": ".py",
   "mimetype": "text/x-python",
   "name": "python",
   "nbconvert_exporter": "python",
   "pygments_lexer": "ipython3",
   "version": "3.7.0"
  }
 },
 "nbformat": 4,
 "nbformat_minor": 2
}

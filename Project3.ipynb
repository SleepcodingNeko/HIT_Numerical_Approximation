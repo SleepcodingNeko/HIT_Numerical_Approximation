{
 "cells": [
  {
   "cell_type": "code",
   "execution_count": 24,
   "metadata": {},
   "outputs": [
    {
     "name": "stdout",
     "output_type": "stream",
     "text": [
      "Input num of control points:\n",
      "5\n",
      "Input coordinates:\n",
      "1 1\n",
      "2 1\n",
      "3 4\n",
      "4 5\n",
      "5 10\n"
     ]
    },
    {
     "data": {
      "image/png": "[encoded data removed]",
      "text/plain": [
       "<Figure size 432x288 with 1 Axes>"
      ]
     },
     "metadata": {
      "needs_background": "light"
     },
     "output_type": "display_data"
    },
    {
     "data": {
      "text/plain": [
       "<Figure size 432x288 with 0 Axes>"
      ]
     },
     "metadata": {},
     "output_type": "display_data"
    },
    {
     "data": {
      "image/png": "[encoded data removed]",
      "text/plain": [
       "<Figure size 432x288 with 1 Axes>"
      ]
     },
     "metadata": {
      "needs_background": "light"
     },
     "output_type": "display_data"
    }
   ],
   "source": [
    "#上机3 实现自由曲线设计\n",
    "#1. 任取4-8个控制点，画出控制多边形\n",
    "#2. 求值，获得Bezier曲线，并标出 (t*=学号/10)处对应的点P (t*)\n",
    "#3. 实现 (De Casteljan)分割算法，将Bezier曲线进行细分。标出左右子段的控制点\n",
    "#4. 实现升阶算法，获得曲线升2阶后的新控制点\n",
    "\n",
    "import matplotlib.pyplot as plt    \n",
    "import numpy as np  \n",
    "import math\n",
    "\n",
    "plt.figure(1)\n",
    "\n",
    "def fac(n):\n",
    "    if n<=0:\n",
    "        return 1\n",
    "    else:\n",
    "        return n*fac(n-1)\n",
    "\n",
    "print('Input num of control points:')\n",
    "a=int(input())\n",
    "line=[[0]*2]*a\n",
    "print('Input coordinates:')\n",
    "for i in range(a):\n",
    "    line[i]=input().split(\" \")\n",
    "    line[i]=[int(j) for j in line[i]]  \n",
    "b=np.array(line)\n",
    "x1=[]\n",
    "y1=[]\n",
    "for i in range(a):\n",
    "    x1.append(b[i,0])\n",
    "    y1.append(b[i,1])\n",
    "\n",
    "plt.plot(x1,y1,color=\"yellow\")\n",
    "\n",
    "t=np.linspace(0,1,1000)\n",
    "n=a-1\n",
    "def X2(t):\n",
    "    I=0\n",
    "    for i in range(a):\n",
    "        I=I+b[i,0]*(fac(n)/(fac(i)*fac(n-i)))*(t**i)*((1-t)**(n-i))\n",
    "    return I       \n",
    "def Y2(t):\n",
    "    J=0\n",
    "    for j in range(a):\n",
    "        J=J+b[j,1]*(fac(n)/(fac(j)*fac(n-j)))*(t**j)*((1-t)**(n-j))\n",
    "    return J\n",
    "plt.figure(1)\n",
    "plt.plot(X2(t),Y2(t),color=\"red\")\n",
    "\n",
    "t_=1.9\n",
    "x3=x1[:]\n",
    "y3=y1[:]\n",
    "i=0\n",
    "while i<a:\n",
    "    j=a-1\n",
    "    while j>i:\n",
    "        x3[j]=(1-t_)*x3[j]+t_*x3[j-1]\n",
    "        y3[j]=(1-t_)*y3[j]+t_*y3[j-1]\n",
    "        j=j-1\n",
    "    i=i+1\n",
    "x4=x1[:]\n",
    "y4=y1[:]\n",
    "i=0\n",
    "while i<a:\n",
    "    j=a-1\n",
    "    while j<a-i:\n",
    "        x4[j]=(t_)*x4[j]+(1-t_)*x4[j-1]\n",
    "        y4[j]=(t_)*y4[j]+(1-t_)*y4[j-1]\n",
    "        j=j+1\n",
    "    i=i+1\n",
    "x5=x3+x4\n",
    "y5=y3+y4\n",
    "plt.figure(2)\n",
    "#plt.plot(x5,y5,color=\"blue\")\n",
    "\n",
    "\n",
    "#习题4\n",
    "x6=x1[:]\n",
    "x6.append(0)\n",
    "x6.append(0)\n",
    "y6=y1[:]\n",
    "y6.append(0)\n",
    "y6.append(0)\n",
    "x7=[0]*(a+2)\n",
    "y7=[0]*(a+2)\n",
    "for i in range(a+2):\n",
    "    x7[i]=x6[i]*(fac(n)/(fac(i)*fac(n-i)))/(fac(n+2)/(fac(i)*fac(n+2-i)))+2*x6[i-1]*(fac(n)/(fac(i-1)*fac(n-i+1)))/(fac(n+2)/(fac(i)*fac(n+2-i)))+x6[i-2]*(fac(n)/(fac(i-2)*fac(n-i+2)))/(fac(n+2)/(fac(i)*fac(n+2-i)))\n",
    "    y7[i]=y6[i]*(fac(n)/(fac(i)*fac(n-i)))/(fac(n+2)/(fac(i)*fac(n+2-i)))+2*y6[i-1]*(fac(n)/(fac(i-1)*fac(n-i+1)))/(fac(n+2)/(fac(i)*fac(n+2-i)))+y6[i-2]*(fac(n)/(fac(i-2)*fac(n-i+2)))/(fac(n+2)/(fac(i)*fac(n+2-i)))\n",
    "plt.figure(3)\n",
    "plt.plot(x7,y7,'ro-',label='Prob4')\n",
    "\n",
    "plt.show()"
   ]
  },
  {
   "cell_type": "code",
   "execution_count": null,
   "metadata": {},
   "outputs": [],
   "source": []
  }
 ],
 "metadata": {
  "kernelspec": {
   "display_name": "Python [conda env:ml]",
   "language": "python",
   "name": "conda-env-ml-py"
  },
  "language_info": {
   "codemirror_mode": {
    "name": "ipython",
    "version": 3
   },
   "file_extension": ".py",
   "mimetype": "text/x-python",
   "name": "python",
   "nbconvert_exporter": "python",
   "pygments_lexer": "ipython3",
   "version": "3.8.5"
  }
 },
 "nbformat": 4,
 "nbformat_minor": 2
}
